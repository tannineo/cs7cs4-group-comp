{
 "cells": [
  {
   "cell_type": "code",
   "execution_count": 1,
   "metadata": {},
   "outputs": [
    {
     "name": "stderr",
     "output_type": "stream",
     "text": [
      "/Users/cary/.local/share/virtualenvs/cs7cs4-group-comp-PCvzJ4oH/lib/python3.7/site-packages/lightgbm/__init__.py:48: UserWarning: Starting from version 2.2.1, the library file in distribution wheels for macOS is built by the Apple Clang (Xcode_8.3.3) compiler.\n",
      "This means that in case of installing LightGBM from PyPI via the ``pip install lightgbm`` command, you don't need to install the gcc compiler anymore.\n",
      "Instead of that, you need to install the OpenMP library, which is required for running LightGBM on the system with the Apple Clang compiler.\n",
      "You can install the OpenMP library by the following command: ``brew install libomp``.\n",
      "  \"You can install the OpenMP library by the following command: ``brew install libomp``.\", UserWarning)\n"
     ]
    }
   ],
   "source": [
    "import numpy as np\n",
    "import pandas as pd\n",
    "import matplotlib.pyplot as plt\n",
    "\n",
    "import lightgbm as lgb\n",
    "\n",
    "from scipy.stats import uniform, randint\n",
    "from sklearn.preprocessing import PowerTransformer\n",
    "from sklearn.model_selection import KFold, train_test_split, cross_val_score, GridSearchCV, RandomizedSearchCV"
   ]
  },
  {
   "cell_type": "code",
   "execution_count": 2,
   "metadata": {},
   "outputs": [
    {
     "name": "stderr",
     "output_type": "stream",
     "text": [
      "/Users/cary/.local/share/virtualenvs/cs7cs4-group-comp-PCvzJ4oH/lib/python3.7/site-packages/numpy/lib/arraysetops.py:568: FutureWarning: elementwise comparison failed; returning scalar instead, but in the future will perform elementwise comparison\n",
      "  mask |= (ar1 == a)\n"
     ]
    },
    {
     "data": {
      "text/html": [
       "<div>\n",
       "<style scoped>\n",
       "    .dataframe tbody tr th:only-of-type {\n",
       "        vertical-align: middle;\n",
       "    }\n",
       "\n",
       "    .dataframe tbody tr th {\n",
       "        vertical-align: top;\n",
       "    }\n",
       "\n",
       "    .dataframe thead th {\n",
       "        text-align: right;\n",
       "    }\n",
       "</style>\n",
       "<table border=\"1\" class=\"dataframe\">\n",
       "  <thead>\n",
       "    <tr style=\"text-align: right;\">\n",
       "      <th></th>\n",
       "      <th>Year of Record</th>\n",
       "      <th>Housing Situation</th>\n",
       "      <th>Crime Level in the City of Employement</th>\n",
       "      <th>Work Experience in Current Job [years]</th>\n",
       "      <th>Satisfation with employer</th>\n",
       "      <th>Gender</th>\n",
       "      <th>Age</th>\n",
       "      <th>Country</th>\n",
       "      <th>Size of City</th>\n",
       "      <th>Profession</th>\n",
       "      <th>University Degree</th>\n",
       "      <th>Wears Glasses</th>\n",
       "      <th>Hair Color</th>\n",
       "      <th>Body Height [cm]</th>\n",
       "      <th>Yearly Income in addition to Salary (e.g. Rental Income)</th>\n",
       "      <th>Total Yearly Income [EUR]</th>\n",
       "    </tr>\n",
       "    <tr>\n",
       "      <th>Instance</th>\n",
       "      <th></th>\n",
       "      <th></th>\n",
       "      <th></th>\n",
       "      <th></th>\n",
       "      <th></th>\n",
       "      <th></th>\n",
       "      <th></th>\n",
       "      <th></th>\n",
       "      <th></th>\n",
       "      <th></th>\n",
       "      <th></th>\n",
       "      <th></th>\n",
       "      <th></th>\n",
       "      <th></th>\n",
       "      <th></th>\n",
       "      <th></th>\n",
       "    </tr>\n",
       "  </thead>\n",
       "  <tbody>\n",
       "    <tr>\n",
       "      <th>1</th>\n",
       "      <td>1940.0</td>\n",
       "      <td>0</td>\n",
       "      <td>33</td>\n",
       "      <td>17</td>\n",
       "      <td>Unhappy</td>\n",
       "      <td>other</td>\n",
       "      <td>45</td>\n",
       "      <td>Afghanistan</td>\n",
       "      <td>25179</td>\n",
       "      <td>group head</td>\n",
       "      <td>No</td>\n",
       "      <td>1</td>\n",
       "      <td>Black</td>\n",
       "      <td>182</td>\n",
       "      <td>0 EUR</td>\n",
       "      <td>6182.05</td>\n",
       "    </tr>\n",
       "    <tr>\n",
       "      <th>2</th>\n",
       "      <td>1940.0</td>\n",
       "      <td>0</td>\n",
       "      <td>25</td>\n",
       "      <td>4.9</td>\n",
       "      <td>Unhappy</td>\n",
       "      <td>female</td>\n",
       "      <td>17</td>\n",
       "      <td>Afghanistan</td>\n",
       "      <td>2278204</td>\n",
       "      <td>heavy vehicle and mobile equipment service tec...</td>\n",
       "      <td>No</td>\n",
       "      <td>0</td>\n",
       "      <td>Blond</td>\n",
       "      <td>172</td>\n",
       "      <td>0 EUR</td>\n",
       "      <td>6819.69</td>\n",
       "    </tr>\n",
       "    <tr>\n",
       "      <th>3</th>\n",
       "      <td>1940.0</td>\n",
       "      <td>0</td>\n",
       "      <td>34</td>\n",
       "      <td>21</td>\n",
       "      <td>Unhappy</td>\n",
       "      <td>female</td>\n",
       "      <td>48</td>\n",
       "      <td>Afghanistan</td>\n",
       "      <td>822134</td>\n",
       "      <td>sorter</td>\n",
       "      <td>Bachelor</td>\n",
       "      <td>0</td>\n",
       "      <td>Blond</td>\n",
       "      <td>144</td>\n",
       "      <td>0 EUR</td>\n",
       "      <td>8663.53</td>\n",
       "    </tr>\n",
       "    <tr>\n",
       "      <th>4</th>\n",
       "      <td>1940.0</td>\n",
       "      <td>0</td>\n",
       "      <td>70</td>\n",
       "      <td>18</td>\n",
       "      <td>Average</td>\n",
       "      <td>female</td>\n",
       "      <td>42</td>\n",
       "      <td>Albania</td>\n",
       "      <td>59477</td>\n",
       "      <td>quality control senior engineer</td>\n",
       "      <td>No</td>\n",
       "      <td>1</td>\n",
       "      <td>Brown</td>\n",
       "      <td>152</td>\n",
       "      <td>0 EUR</td>\n",
       "      <td>2400.64</td>\n",
       "    </tr>\n",
       "    <tr>\n",
       "      <th>5</th>\n",
       "      <td>1940.0</td>\n",
       "      <td>0</td>\n",
       "      <td>51</td>\n",
       "      <td>8</td>\n",
       "      <td>Happy</td>\n",
       "      <td>other</td>\n",
       "      <td>15</td>\n",
       "      <td>Albania</td>\n",
       "      <td>23494</td>\n",
       "      <td>logistician</td>\n",
       "      <td>Master</td>\n",
       "      <td>1</td>\n",
       "      <td>Black</td>\n",
       "      <td>180</td>\n",
       "      <td>0 EUR</td>\n",
       "      <td>2816.18</td>\n",
       "    </tr>\n",
       "  </tbody>\n",
       "</table>\n",
       "</div>"
      ],
      "text/plain": [
       "          Year of Record Housing Situation  \\\n",
       "Instance                                     \n",
       "1                 1940.0                 0   \n",
       "2                 1940.0                 0   \n",
       "3                 1940.0                 0   \n",
       "4                 1940.0                 0   \n",
       "5                 1940.0                 0   \n",
       "\n",
       "          Crime Level in the City of Employement  \\\n",
       "Instance                                           \n",
       "1                                             33   \n",
       "2                                             25   \n",
       "3                                             34   \n",
       "4                                             70   \n",
       "5                                             51   \n",
       "\n",
       "         Work Experience in Current Job [years] Satisfation with employer  \\\n",
       "Instance                                                                    \n",
       "1                                            17                   Unhappy   \n",
       "2                                           4.9                   Unhappy   \n",
       "3                                            21                   Unhappy   \n",
       "4                                            18                   Average   \n",
       "5                                             8                     Happy   \n",
       "\n",
       "          Gender  Age      Country  Size of City  \\\n",
       "Instance                                           \n",
       "1          other   45  Afghanistan         25179   \n",
       "2         female   17  Afghanistan       2278204   \n",
       "3         female   48  Afghanistan        822134   \n",
       "4         female   42      Albania         59477   \n",
       "5          other   15      Albania         23494   \n",
       "\n",
       "                                                 Profession University Degree  \\\n",
       "Instance                                                                        \n",
       "1                                                group head                No   \n",
       "2         heavy vehicle and mobile equipment service tec...                No   \n",
       "3                                                    sorter          Bachelor   \n",
       "4                           quality control senior engineer                No   \n",
       "5                                               logistician            Master   \n",
       "\n",
       "          Wears Glasses Hair Color  Body Height [cm]  \\\n",
       "Instance                                               \n",
       "1                     1      Black               182   \n",
       "2                     0      Blond               172   \n",
       "3                     0      Blond               144   \n",
       "4                     1      Brown               152   \n",
       "5                     1      Black               180   \n",
       "\n",
       "         Yearly Income in addition to Salary (e.g. Rental Income)  \\\n",
       "Instance                                                            \n",
       "1                                                     0 EUR         \n",
       "2                                                     0 EUR         \n",
       "3                                                     0 EUR         \n",
       "4                                                     0 EUR         \n",
       "5                                                     0 EUR         \n",
       "\n",
       "          Total Yearly Income [EUR]  \n",
       "Instance                             \n",
       "1                           6182.05  \n",
       "2                           6819.69  \n",
       "3                           8663.53  \n",
       "4                           2400.64  \n",
       "5                           2816.18  "
      ]
     },
     "execution_count": 2,
     "metadata": {},
     "output_type": "execute_result"
    }
   ],
   "source": [
    "# import data\n",
    "# training data, data in some columns (2,4) is mix-typed so use unicode\n",
    "# explicitly assign types to columns\n",
    "t_df = pd.read_csv('source_data/train.csv', index_col=[0], dtype={\n",
    "    'Housing Situation': 'unicode',\n",
    "    'Work Experience in Current Job [years]': 'unicode'\n",
    "})\n",
    "\n",
    "p_df = pd.read_csv('source_data/predict.csv', index_col=[0], dtype={\n",
    "    'Housing Situation': 'unicode',\n",
    "    'Work Experience in Current Job [years]': 'unicode'\n",
    "})\n",
    "\n",
    "t_df.head()"
   ]
  },
  {
   "cell_type": "code",
   "execution_count": 3,
   "metadata": {},
   "outputs": [],
   "source": [
    "rename_map = {\n",
    "    'Year of Record': 'Year',\n",
    "    'Housing Situation': 'Housing',\n",
    "    'Crime Level in the City of Employement': 'Crime',\n",
    "    'Work Experience in Current Job [years]': 'WorkExp',\n",
    "    'Satisfation with employer': 'Satisfation',\n",
    "    'Size of City': 'SoC',\n",
    "    'University Degree': 'UD',\n",
    "    'Wears Glasses': 'Glasses',\n",
    "    'Body Height [cm]': 'Height',\n",
    "    'Yearly Income in addition to Salary (e.g. Rental Income)': 'AddIn',\n",
    "    'Total Yearly Income [EUR]': 'Income'\n",
    "}\n",
    "\n",
    "t_df.rename(columns=rename_map, inplace=True)\n",
    "p_df.rename(columns=rename_map, inplace=True)"
   ]
  },
  {
   "cell_type": "code",
   "execution_count": 4,
   "metadata": {},
   "outputs": [
    {
     "data": {
      "text/plain": [
       "Year            4013\n",
       "Housing            0\n",
       "Crime              0\n",
       "WorkExp            0\n",
       "Satisfation    38087\n",
       "Gender         74127\n",
       "Age                0\n",
       "Country            0\n",
       "SoC                0\n",
       "Profession      2853\n",
       "UD             80600\n",
       "Glasses            0\n",
       "Hair Color     70211\n",
       "Height             0\n",
       "AddIn              0\n",
       "Income             0\n",
       "dtype: int64"
      ]
     },
     "execution_count": 4,
     "metadata": {},
     "output_type": "execute_result"
    }
   ],
   "source": [
    "# see N/A values in train data\n",
    "t_df.shape[0] - t_df.count()"
   ]
  },
  {
   "cell_type": "code",
   "execution_count": 5,
   "metadata": {},
   "outputs": [
    {
     "data": {
      "text/plain": [
       "Year             1494\n",
       "Housing             0\n",
       "Crime               0\n",
       "WorkExp             0\n",
       "Satisfation     13432\n",
       "Gender          26308\n",
       "Age                 0\n",
       "Country             1\n",
       "SoC                 0\n",
       "Profession       1041\n",
       "UD              28738\n",
       "Glasses             0\n",
       "Hair Color      24651\n",
       "Height              0\n",
       "AddIn               0\n",
       "Income         369438\n",
       "dtype: int64"
      ]
     },
     "execution_count": 5,
     "metadata": {},
     "output_type": "execute_result"
    }
   ],
   "source": [
    "# see N/A values in predict data\n",
    "p_df.shape[0] - p_df.count()"
   ]
  },
  {
   "cell_type": "code",
   "execution_count": 6,
   "metadata": {},
   "outputs": [],
   "source": [
    "# training data preprocessing before concat with predict data\n",
    "\n",
    "# drop duplicates\n",
    "t_df = t_df.drop_duplicates()\n",
    "\n",
    "# drop (t_df['Year'] < 2000) & (t_df['Income'] > 400000)\n",
    "t_df.drop(t_df[(t_df['Year'] < 2000) & (t_df['Income'] > 400000)].index, inplace=True)\n",
    "\n",
    "# drop Income > 1000000\n",
    "t_df.drop(t_df[t_df['Income'] > 1000000].index, inplace=True)\n",
    "\n",
    "# drop Crime >= 200\n",
    "t_df.drop(t_df[t_df['Crime'] >= 200].index, inplace=True)\n",
    "\n",
    "# drop Age >= 110\n",
    "t_df.drop(t_df[t_df['Age'] >= 110].index, inplace=True)\n",
    "\n",
    "# drop Country '0'\n",
    "t_df.drop(t_df[t_df['Country'] == '0'].index, inplace=True)\n",
    "\n",
    "# rid of N/A or invalid rows for a column (small amount of them)\n",
    "t_df.dropna(subset = ['Year'], inplace=True)\n",
    "t_df.dropna(subset = ['Profession'], inplace=True)\n",
    "t_df.drop(t_df[t_df['WorkExp'] == '#NUM!'].index, inplace=True)\n",
    "t_df.drop(t_df[t_df['Gender'] == '0'].index, inplace=True)"
   ]
  },
  {
   "cell_type": "code",
   "execution_count": 7,
   "metadata": {},
   "outputs": [
    {
     "name": "stdout",
     "output_type": "stream",
     "text": [
      "t_row= 891433\n",
      "p_row= 369438\n",
      "total_row= 1260871\n"
     ]
    }
   ],
   "source": [
    "# after deletion in on train data\n",
    "# combine the two dataframes together\n",
    "\n",
    "total_df = pd.concat([t_df, p_df])\n",
    "\n",
    "t_row, _ = t_df.shape\n",
    "p_row, _ = p_df.shape\n",
    "total_row, _ = total_df.shape\n",
    "\n",
    "print('t_row=', t_row)\n",
    "print('p_row=', p_row)\n",
    "print('total_row=', total_row)"
   ]
  },
  {
   "cell_type": "code",
   "execution_count": 8,
   "metadata": {},
   "outputs": [
    {
     "data": {
      "text/plain": [
       "<matplotlib.axes._subplots.AxesSubplot at 0x106f15590>"
      ]
     },
     "execution_count": 8,
     "metadata": {},
     "output_type": "execute_result"
    },
    {
     "data": {
      "image/png": "[encoded data removed]",
      "text/plain": [
       "<Figure size 432x288 with 1 Axes>"
      ]
     },
     "metadata": {
      "needs_background": "light"
     },
     "output_type": "display_data"
    }
   ],
   "source": [
    "########################################### Start with Year\n",
    "# use 1% sample to plot\n",
    "total_df[:t_row].sample(frac = 0.01, random_state = None).plot.scatter(x='Year', y = 'Income')"
   ]
  },
  {
   "cell_type": "code",
   "execution_count": 9,
   "metadata": {},
   "outputs": [
    {
     "data": {
      "text/html": [
       "<div>\n",
       "<style scoped>\n",
       "    .dataframe tbody tr th:only-of-type {\n",
       "        vertical-align: middle;\n",
       "    }\n",
       "\n",
       "    .dataframe tbody tr th {\n",
       "        vertical-align: top;\n",
       "    }\n",
       "\n",
       "    .dataframe thead th {\n",
       "        text-align: right;\n",
       "    }\n",
       "</style>\n",
       "<table border=\"1\" class=\"dataframe\">\n",
       "  <thead>\n",
       "    <tr style=\"text-align: right;\">\n",
       "      <th></th>\n",
       "      <th>Year</th>\n",
       "      <th>Housing</th>\n",
       "      <th>Crime</th>\n",
       "      <th>WorkExp</th>\n",
       "      <th>Satisfation</th>\n",
       "      <th>Gender</th>\n",
       "      <th>Age</th>\n",
       "      <th>Country</th>\n",
       "      <th>SoC</th>\n",
       "      <th>Profession</th>\n",
       "      <th>UD</th>\n",
       "      <th>Glasses</th>\n",
       "      <th>Hair Color</th>\n",
       "      <th>Height</th>\n",
       "      <th>AddIn</th>\n",
       "      <th>Income</th>\n",
       "      <th>Year B1990</th>\n",
       "      <th>Year A1990</th>\n",
       "    </tr>\n",
       "    <tr>\n",
       "      <th>Instance</th>\n",
       "      <th></th>\n",
       "      <th></th>\n",
       "      <th></th>\n",
       "      <th></th>\n",
       "      <th></th>\n",
       "      <th></th>\n",
       "      <th></th>\n",
       "      <th></th>\n",
       "      <th></th>\n",
       "      <th></th>\n",
       "      <th></th>\n",
       "      <th></th>\n",
       "      <th></th>\n",
       "      <th></th>\n",
       "      <th></th>\n",
       "      <th></th>\n",
       "      <th></th>\n",
       "      <th></th>\n",
       "    </tr>\n",
       "  </thead>\n",
       "  <tbody>\n",
       "    <tr>\n",
       "      <th>1</th>\n",
       "      <td>1940.0</td>\n",
       "      <td>0</td>\n",
       "      <td>33</td>\n",
       "      <td>17</td>\n",
       "      <td>Unhappy</td>\n",
       "      <td>other</td>\n",
       "      <td>45</td>\n",
       "      <td>Afghanistan</td>\n",
       "      <td>25179</td>\n",
       "      <td>group head</td>\n",
       "      <td>No</td>\n",
       "      <td>1</td>\n",
       "      <td>Black</td>\n",
       "      <td>182</td>\n",
       "      <td>0 EUR</td>\n",
       "      <td>6182.05</td>\n",
       "      <td>1940.0</td>\n",
       "      <td>0.0</td>\n",
       "    </tr>\n",
       "    <tr>\n",
       "      <th>2</th>\n",
       "      <td>1940.0</td>\n",
       "      <td>0</td>\n",
       "      <td>25</td>\n",
       "      <td>4.9</td>\n",
       "      <td>Unhappy</td>\n",
       "      <td>female</td>\n",
       "      <td>17</td>\n",
       "      <td>Afghanistan</td>\n",
       "      <td>2278204</td>\n",
       "      <td>heavy vehicle and mobile equipment service tec...</td>\n",
       "      <td>No</td>\n",
       "      <td>0</td>\n",
       "      <td>Blond</td>\n",
       "      <td>172</td>\n",
       "      <td>0 EUR</td>\n",
       "      <td>6819.69</td>\n",
       "      <td>1940.0</td>\n",
       "      <td>0.0</td>\n",
       "    </tr>\n",
       "    <tr>\n",
       "      <th>3</th>\n",
       "      <td>1940.0</td>\n",
       "      <td>0</td>\n",
       "      <td>34</td>\n",
       "      <td>21</td>\n",
       "      <td>Unhappy</td>\n",
       "      <td>female</td>\n",
       "      <td>48</td>\n",
       "      <td>Afghanistan</td>\n",
       "      <td>822134</td>\n",
       "      <td>sorter</td>\n",
       "      <td>Bachelor</td>\n",
       "      <td>0</td>\n",
       "      <td>Blond</td>\n",
       "      <td>144</td>\n",
       "      <td>0 EUR</td>\n",
       "      <td>8663.53</td>\n",
       "      <td>1940.0</td>\n",
       "      <td>0.0</td>\n",
       "    </tr>\n",
       "    <tr>\n",
       "      <th>4</th>\n",
       "      <td>1940.0</td>\n",
       "      <td>0</td>\n",
       "      <td>70</td>\n",
       "      <td>18</td>\n",
       "      <td>Average</td>\n",
       "      <td>female</td>\n",
       "      <td>42</td>\n",
       "      <td>Albania</td>\n",
       "      <td>59477</td>\n",
       "      <td>quality control senior engineer</td>\n",
       "      <td>No</td>\n",
       "      <td>1</td>\n",
       "      <td>Brown</td>\n",
       "      <td>152</td>\n",
       "      <td>0 EUR</td>\n",
       "      <td>2400.64</td>\n",
       "      <td>1940.0</td>\n",
       "      <td>0.0</td>\n",
       "    </tr>\n",
       "    <tr>\n",
       "      <th>5</th>\n",
       "      <td>1940.0</td>\n",
       "      <td>0</td>\n",
       "      <td>51</td>\n",
       "      <td>8</td>\n",
       "      <td>Happy</td>\n",
       "      <td>other</td>\n",
       "      <td>15</td>\n",
       "      <td>Albania</td>\n",
       "      <td>23494</td>\n",
       "      <td>logistician</td>\n",
       "      <td>Master</td>\n",
       "      <td>1</td>\n",
       "      <td>Black</td>\n",
       "      <td>180</td>\n",
       "      <td>0 EUR</td>\n",
       "      <td>2816.18</td>\n",
       "      <td>1940.0</td>\n",
       "      <td>0.0</td>\n",
       "    </tr>\n",
       "  </tbody>\n",
       "</table>\n",
       "</div>"
      ],
      "text/plain": [
       "            Year Housing  Crime WorkExp Satisfation  Gender  Age      Country  \\\n",
       "Instance                                                                        \n",
       "1         1940.0       0     33      17     Unhappy   other   45  Afghanistan   \n",
       "2         1940.0       0     25     4.9     Unhappy  female   17  Afghanistan   \n",
       "3         1940.0       0     34      21     Unhappy  female   48  Afghanistan   \n",
       "4         1940.0       0     70      18     Average  female   42      Albania   \n",
       "5         1940.0       0     51       8       Happy   other   15      Albania   \n",
       "\n",
       "              SoC                                         Profession  \\\n",
       "Instance                                                               \n",
       "1           25179                                         group head   \n",
       "2         2278204  heavy vehicle and mobile equipment service tec...   \n",
       "3          822134                                             sorter   \n",
       "4           59477                    quality control senior engineer   \n",
       "5           23494                                        logistician   \n",
       "\n",
       "                UD  Glasses Hair Color  Height  AddIn   Income  Year B1990  \\\n",
       "Instance                                                                     \n",
       "1               No        1      Black     182  0 EUR  6182.05      1940.0   \n",
       "2               No        0      Blond     172  0 EUR  6819.69      1940.0   \n",
       "3         Bachelor        0      Blond     144  0 EUR  8663.53      1940.0   \n",
       "4               No        1      Brown     152  0 EUR  2400.64      1940.0   \n",
       "5           Master        1      Black     180  0 EUR  2816.18      1940.0   \n",
       "\n",
       "          Year A1990  \n",
       "Instance              \n",
       "1                0.0  \n",
       "2                0.0  \n",
       "3                0.0  \n",
       "4                0.0  \n",
       "5                0.0  "
      ]
     },
     "execution_count": 9,
     "metadata": {},
     "output_type": "execute_result"
    }
   ],
   "source": [
    "# devide into 2 columns according to the 1990 boundary\n",
    "total_df['Year B1990'] = total_df['Year'].map(lambda y: y if y <= 1990 else 0)\n",
    "total_df['Year A1990'] = total_df['Year'].map(lambda y: y if y > 1990 else 0)\n",
    "\n",
    "total_df.head()"
   ]
  },
  {
   "cell_type": "code",
   "execution_count": 10,
   "metadata": {},
   "outputs": [
    {
     "data": {
      "text/plain": [
       "<matplotlib.axes._subplots.AxesSubplot at 0x13f06de10>"
      ]
     },
     "execution_count": 10,
     "metadata": {},
     "output_type": "execute_result"
    },
    {
     "data": {
      "image/png": "[encoded data removed]",
      "text/plain": [
       "<Figure size 432x288 with 1 Axes>"
      ]
     },
     "metadata": {
      "needs_background": "light"
     },
     "output_type": "display_data"
    }
   ],
   "source": [
    "total_df[(total_df['Year B1990'] != 0) & (total_df['Income'] != 0)].sample(frac = 0.01, random_state = None).plot.scatter(x = 'Year B1990', y = 'Income')"
   ]
  },
  {
   "cell_type": "code",
   "execution_count": 11,
   "metadata": {},
   "outputs": [
    {
     "data": {
      "text/plain": [
       "<matplotlib.axes._subplots.AxesSubplot at 0x16399bb50>"
      ]
     },
     "execution_count": 11,
     "metadata": {},
     "output_type": "execute_result"
    },
    {
     "data": {
      "image/png": "[encoded data removed]",
      "text/plain": [
       "<Figure size 432x288 with 1 Axes>"
      ]
     },
     "metadata": {
      "needs_background": "light"
     },
     "output_type": "display_data"
    }
   ],
   "source": [
    "total_df[(total_df['Year A1990'] != 0) & (total_df['Income'] != 0)].sample(frac = 0.01, random_state = None).plot.scatter(x = 'Year A1990', y = 'Income')"
   ]
  },
  {
   "cell_type": "code",
   "execution_count": 12,
   "metadata": {},
   "outputs": [
    {
     "data": {
      "text/html": [
       "<div>\n",
       "<style scoped>\n",
       "    .dataframe tbody tr th:only-of-type {\n",
       "        vertical-align: middle;\n",
       "    }\n",
       "\n",
       "    .dataframe tbody tr th {\n",
       "        vertical-align: top;\n",
       "    }\n",
       "\n",
       "    .dataframe thead th {\n",
       "        text-align: right;\n",
       "    }\n",
       "</style>\n",
       "<table border=\"1\" class=\"dataframe\">\n",
       "  <thead>\n",
       "    <tr style=\"text-align: right;\">\n",
       "      <th></th>\n",
       "      <th>Year</th>\n",
       "      <th>Housing</th>\n",
       "      <th>Crime</th>\n",
       "      <th>WorkExp</th>\n",
       "      <th>Satisfation</th>\n",
       "      <th>Gender</th>\n",
       "      <th>Age</th>\n",
       "      <th>Country</th>\n",
       "      <th>SoC</th>\n",
       "      <th>Profession</th>\n",
       "      <th>UD</th>\n",
       "      <th>Glasses</th>\n",
       "      <th>Hair Color</th>\n",
       "      <th>Height</th>\n",
       "      <th>AddIn</th>\n",
       "      <th>Income</th>\n",
       "      <th>Year B1990</th>\n",
       "      <th>Year A1990</th>\n",
       "      <th>Year Resized</th>\n",
       "    </tr>\n",
       "    <tr>\n",
       "      <th>Instance</th>\n",
       "      <th></th>\n",
       "      <th></th>\n",
       "      <th></th>\n",
       "      <th></th>\n",
       "      <th></th>\n",
       "      <th></th>\n",
       "      <th></th>\n",
       "      <th></th>\n",
       "      <th></th>\n",
       "      <th></th>\n",
       "      <th></th>\n",
       "      <th></th>\n",
       "      <th></th>\n",
       "      <th></th>\n",
       "      <th></th>\n",
       "      <th></th>\n",
       "      <th></th>\n",
       "      <th></th>\n",
       "      <th></th>\n",
       "    </tr>\n",
       "  </thead>\n",
       "  <tbody>\n",
       "    <tr>\n",
       "      <th>1</th>\n",
       "      <td>1940.0</td>\n",
       "      <td>0</td>\n",
       "      <td>33</td>\n",
       "      <td>17</td>\n",
       "      <td>Unhappy</td>\n",
       "      <td>other</td>\n",
       "      <td>45</td>\n",
       "      <td>Afghanistan</td>\n",
       "      <td>25179</td>\n",
       "      <td>group head</td>\n",
       "      <td>No</td>\n",
       "      <td>1</td>\n",
       "      <td>Black</td>\n",
       "      <td>182</td>\n",
       "      <td>0 EUR</td>\n",
       "      <td>6182.05</td>\n",
       "      <td>1940.0</td>\n",
       "      <td>0.0</td>\n",
       "      <td>1.0</td>\n",
       "    </tr>\n",
       "    <tr>\n",
       "      <th>2</th>\n",
       "      <td>1940.0</td>\n",
       "      <td>0</td>\n",
       "      <td>25</td>\n",
       "      <td>4.9</td>\n",
       "      <td>Unhappy</td>\n",
       "      <td>female</td>\n",
       "      <td>17</td>\n",
       "      <td>Afghanistan</td>\n",
       "      <td>2278204</td>\n",
       "      <td>heavy vehicle and mobile equipment service tec...</td>\n",
       "      <td>No</td>\n",
       "      <td>0</td>\n",
       "      <td>Blond</td>\n",
       "      <td>172</td>\n",
       "      <td>0 EUR</td>\n",
       "      <td>6819.69</td>\n",
       "      <td>1940.0</td>\n",
       "      <td>0.0</td>\n",
       "      <td>1.0</td>\n",
       "    </tr>\n",
       "    <tr>\n",
       "      <th>3</th>\n",
       "      <td>1940.0</td>\n",
       "      <td>0</td>\n",
       "      <td>34</td>\n",
       "      <td>21</td>\n",
       "      <td>Unhappy</td>\n",
       "      <td>female</td>\n",
       "      <td>48</td>\n",
       "      <td>Afghanistan</td>\n",
       "      <td>822134</td>\n",
       "      <td>sorter</td>\n",
       "      <td>Bachelor</td>\n",
       "      <td>0</td>\n",
       "      <td>Blond</td>\n",
       "      <td>144</td>\n",
       "      <td>0 EUR</td>\n",
       "      <td>8663.53</td>\n",
       "      <td>1940.0</td>\n",
       "      <td>0.0</td>\n",
       "      <td>1.0</td>\n",
       "    </tr>\n",
       "    <tr>\n",
       "      <th>4</th>\n",
       "      <td>1940.0</td>\n",
       "      <td>0</td>\n",
       "      <td>70</td>\n",
       "      <td>18</td>\n",
       "      <td>Average</td>\n",
       "      <td>female</td>\n",
       "      <td>42</td>\n",
       "      <td>Albania</td>\n",
       "      <td>59477</td>\n",
       "      <td>quality control senior engineer</td>\n",
       "      <td>No</td>\n",
       "      <td>1</td>\n",
       "      <td>Brown</td>\n",
       "      <td>152</td>\n",
       "      <td>0 EUR</td>\n",
       "      <td>2400.64</td>\n",
       "      <td>1940.0</td>\n",
       "      <td>0.0</td>\n",
       "      <td>1.0</td>\n",
       "    </tr>\n",
       "    <tr>\n",
       "      <th>5</th>\n",
       "      <td>1940.0</td>\n",
       "      <td>0</td>\n",
       "      <td>51</td>\n",
       "      <td>8</td>\n",
       "      <td>Happy</td>\n",
       "      <td>other</td>\n",
       "      <td>15</td>\n",
       "      <td>Albania</td>\n",
       "      <td>23494</td>\n",
       "      <td>logistician</td>\n",
       "      <td>Master</td>\n",
       "      <td>1</td>\n",
       "      <td>Black</td>\n",
       "      <td>180</td>\n",
       "      <td>0 EUR</td>\n",
       "      <td>2816.18</td>\n",
       "      <td>1940.0</td>\n",
       "      <td>0.0</td>\n",
       "      <td>1.0</td>\n",
       "    </tr>\n",
       "  </tbody>\n",
       "</table>\n",
       "</div>"
      ],
      "text/plain": [
       "            Year Housing  Crime WorkExp Satisfation  Gender  Age      Country  \\\n",
       "Instance                                                                        \n",
       "1         1940.0       0     33      17     Unhappy   other   45  Afghanistan   \n",
       "2         1940.0       0     25     4.9     Unhappy  female   17  Afghanistan   \n",
       "3         1940.0       0     34      21     Unhappy  female   48  Afghanistan   \n",
       "4         1940.0       0     70      18     Average  female   42      Albania   \n",
       "5         1940.0       0     51       8       Happy   other   15      Albania   \n",
       "\n",
       "              SoC                                         Profession  \\\n",
       "Instance                                                               \n",
       "1           25179                                         group head   \n",
       "2         2278204  heavy vehicle and mobile equipment service tec...   \n",
       "3          822134                                             sorter   \n",
       "4           59477                    quality control senior engineer   \n",
       "5           23494                                        logistician   \n",
       "\n",
       "                UD  Glasses Hair Color  Height  AddIn   Income  Year B1990  \\\n",
       "Instance                                                                     \n",
       "1               No        1      Black     182  0 EUR  6182.05      1940.0   \n",
       "2               No        0      Blond     172  0 EUR  6819.69      1940.0   \n",
       "3         Bachelor        0      Blond     144  0 EUR  8663.53      1940.0   \n",
       "4               No        1      Brown     152  0 EUR  2400.64      1940.0   \n",
       "5           Master        1      Black     180  0 EUR  2816.18      1940.0   \n",
       "\n",
       "          Year A1990  Year Resized  \n",
       "Instance                            \n",
       "1                0.0           1.0  \n",
       "2                0.0           1.0  \n",
       "3                0.0           1.0  \n",
       "4                0.0           1.0  \n",
       "5                0.0           1.0  "
      ]
     },
     "execution_count": 12,
     "metadata": {},
     "output_type": "execute_result"
    }
   ],
   "source": [
    "# 50 ^ 3 * 0.8 = 100,000\n",
    "# 80 ^ 3 * 0.8 = 409,600\n",
    "# do a pow of 3 on year\n",
    "\n",
    "total_df['Year Resized'] = total_df['Year'].map(lambda y: (y-1939) ** 3)\n",
    "\n",
    "total_df.head()\n",
    "########################################### Done with Year"
   ]
  },
  {
   "cell_type": "code",
   "execution_count": 13,
   "metadata": {},
   "outputs": [
    {
     "data": {
      "text/plain": [
       "0                   181098\n",
       "Castle              157883\n",
       "Large Apartment     157986\n",
       "Large House         157359\n",
       "Medium Apartment    124117\n",
       "Medium House        157792\n",
       "Small Apartment       9419\n",
       "Small House         157964\n",
       "nA                  157253\n",
       "Name: Housing, dtype: int64"
      ]
     },
     "execution_count": 13,
     "metadata": {},
     "output_type": "execute_result"
    }
   ],
   "source": [
    "########################################### Start with Housing\n",
    "\n",
    "# count\n",
    "total_df['Housing'].value_counts().sort_index()"
   ]
  },
  {
   "cell_type": "code",
   "execution_count": 14,
   "metadata": {},
   "outputs": [
    {
     "data": {
      "text/html": [
       "<div>\n",
       "<style scoped>\n",
       "    .dataframe tbody tr th:only-of-type {\n",
       "        vertical-align: middle;\n",
       "    }\n",
       "\n",
       "    .dataframe tbody tr th {\n",
       "        vertical-align: top;\n",
       "    }\n",
       "\n",
       "    .dataframe thead th {\n",
       "        text-align: right;\n",
       "    }\n",
       "</style>\n",
       "<table border=\"1\" class=\"dataframe\">\n",
       "  <thead>\n",
       "    <tr style=\"text-align: right;\">\n",
       "      <th></th>\n",
       "      <th>Year</th>\n",
       "      <th>Crime</th>\n",
       "      <th>WorkExp</th>\n",
       "      <th>Satisfation</th>\n",
       "      <th>Gender</th>\n",
       "      <th>Age</th>\n",
       "      <th>Country</th>\n",
       "      <th>SoC</th>\n",
       "      <th>Profession</th>\n",
       "      <th>UD</th>\n",
       "      <th>...</th>\n",
       "      <th>HS_0</th>\n",
       "      <th>HS_Castle</th>\n",
       "      <th>HS_Large Apartment</th>\n",
       "      <th>HS_Large House</th>\n",
       "      <th>HS_Medium Apartment</th>\n",
       "      <th>HS_Medium House</th>\n",
       "      <th>HS_Small Apartment</th>\n",
       "      <th>HS_Small House</th>\n",
       "      <th>HS_nA</th>\n",
       "      <th>Housing_F</th>\n",
       "    </tr>\n",
       "    <tr>\n",
       "      <th>Instance</th>\n",
       "      <th></th>\n",
       "      <th></th>\n",
       "      <th></th>\n",
       "      <th></th>\n",
       "      <th></th>\n",
       "      <th></th>\n",
       "      <th></th>\n",
       "      <th></th>\n",
       "      <th></th>\n",
       "      <th></th>\n",
       "      <th></th>\n",
       "      <th></th>\n",
       "      <th></th>\n",
       "      <th></th>\n",
       "      <th></th>\n",
       "      <th></th>\n",
       "      <th></th>\n",
       "      <th></th>\n",
       "      <th></th>\n",
       "      <th></th>\n",
       "      <th></th>\n",
       "    </tr>\n",
       "  </thead>\n",
       "  <tbody>\n",
       "    <tr>\n",
       "      <th>1</th>\n",
       "      <td>1940.0</td>\n",
       "      <td>33</td>\n",
       "      <td>17</td>\n",
       "      <td>Unhappy</td>\n",
       "      <td>other</td>\n",
       "      <td>45</td>\n",
       "      <td>Afghanistan</td>\n",
       "      <td>25179</td>\n",
       "      <td>group head</td>\n",
       "      <td>No</td>\n",
       "      <td>...</td>\n",
       "      <td>1</td>\n",
       "      <td>0</td>\n",
       "      <td>0</td>\n",
       "      <td>0</td>\n",
       "      <td>0</td>\n",
       "      <td>0</td>\n",
       "      <td>0</td>\n",
       "      <td>0</td>\n",
       "      <td>0</td>\n",
       "      <td>0.185174</td>\n",
       "    </tr>\n",
       "    <tr>\n",
       "      <th>1</th>\n",
       "      <td>1940.0</td>\n",
       "      <td>33</td>\n",
       "      <td>17</td>\n",
       "      <td>Unhappy</td>\n",
       "      <td>other</td>\n",
       "      <td>45</td>\n",
       "      <td>Afghanistan</td>\n",
       "      <td>25179</td>\n",
       "      <td>group head</td>\n",
       "      <td>No</td>\n",
       "      <td>...</td>\n",
       "      <td>0</td>\n",
       "      <td>0</td>\n",
       "      <td>0</td>\n",
       "      <td>0</td>\n",
       "      <td>0</td>\n",
       "      <td>0</td>\n",
       "      <td>0</td>\n",
       "      <td>1</td>\n",
       "      <td>0</td>\n",
       "      <td>0.185174</td>\n",
       "    </tr>\n",
       "    <tr>\n",
       "      <th>1</th>\n",
       "      <td>1994.0</td>\n",
       "      <td>23</td>\n",
       "      <td>12</td>\n",
       "      <td>Average</td>\n",
       "      <td>other</td>\n",
       "      <td>23</td>\n",
       "      <td>Serbia</td>\n",
       "      <td>734369</td>\n",
       "      <td>quality assurance specialist</td>\n",
       "      <td>Bachelor</td>\n",
       "      <td>...</td>\n",
       "      <td>1</td>\n",
       "      <td>0</td>\n",
       "      <td>0</td>\n",
       "      <td>0</td>\n",
       "      <td>0</td>\n",
       "      <td>0</td>\n",
       "      <td>0</td>\n",
       "      <td>0</td>\n",
       "      <td>0</td>\n",
       "      <td>0.103522</td>\n",
       "    </tr>\n",
       "    <tr>\n",
       "      <th>1</th>\n",
       "      <td>1994.0</td>\n",
       "      <td>23</td>\n",
       "      <td>12</td>\n",
       "      <td>Average</td>\n",
       "      <td>other</td>\n",
       "      <td>23</td>\n",
       "      <td>Serbia</td>\n",
       "      <td>734369</td>\n",
       "      <td>quality assurance specialist</td>\n",
       "      <td>Bachelor</td>\n",
       "      <td>...</td>\n",
       "      <td>0</td>\n",
       "      <td>0</td>\n",
       "      <td>0</td>\n",
       "      <td>0</td>\n",
       "      <td>0</td>\n",
       "      <td>0</td>\n",
       "      <td>0</td>\n",
       "      <td>1</td>\n",
       "      <td>0</td>\n",
       "      <td>0.103522</td>\n",
       "    </tr>\n",
       "    <tr>\n",
       "      <th>2</th>\n",
       "      <td>1940.0</td>\n",
       "      <td>25</td>\n",
       "      <td>4.9</td>\n",
       "      <td>Unhappy</td>\n",
       "      <td>female</td>\n",
       "      <td>17</td>\n",
       "      <td>Afghanistan</td>\n",
       "      <td>2278204</td>\n",
       "      <td>heavy vehicle and mobile equipment service tec...</td>\n",
       "      <td>No</td>\n",
       "      <td>...</td>\n",
       "      <td>1</td>\n",
       "      <td>0</td>\n",
       "      <td>0</td>\n",
       "      <td>0</td>\n",
       "      <td>0</td>\n",
       "      <td>0</td>\n",
       "      <td>0</td>\n",
       "      <td>0</td>\n",
       "      <td>0</td>\n",
       "      <td>0.185174</td>\n",
       "    </tr>\n",
       "  </tbody>\n",
       "</table>\n",
       "<p>5 rows × 28 columns</p>\n",
       "</div>"
      ],
      "text/plain": [
       "            Year  Crime WorkExp Satisfation  Gender  Age      Country  \\\n",
       "Instance                                                                \n",
       "1         1940.0     33      17     Unhappy   other   45  Afghanistan   \n",
       "1         1940.0     33      17     Unhappy   other   45  Afghanistan   \n",
       "1         1994.0     23      12     Average   other   23       Serbia   \n",
       "1         1994.0     23      12     Average   other   23       Serbia   \n",
       "2         1940.0     25     4.9     Unhappy  female   17  Afghanistan   \n",
       "\n",
       "              SoC                                         Profession  \\\n",
       "Instance                                                               \n",
       "1           25179                                         group head   \n",
       "1           25179                                         group head   \n",
       "1          734369                       quality assurance specialist   \n",
       "1          734369                       quality assurance specialist   \n",
       "2         2278204  heavy vehicle and mobile equipment service tec...   \n",
       "\n",
       "                UD  ...  HS_0 HS_Castle  HS_Large Apartment HS_Large House  \\\n",
       "Instance            ...                                                      \n",
       "1               No  ...     1         0                   0              0   \n",
       "1               No  ...     0         0                   0              0   \n",
       "1         Bachelor  ...     1         0                   0              0   \n",
       "1         Bachelor  ...     0         0                   0              0   \n",
       "2               No  ...     1         0                   0              0   \n",
       "\n",
       "          HS_Medium Apartment  HS_Medium House  HS_Small Apartment  \\\n",
       "Instance                                                             \n",
       "1                           0                0                   0   \n",
       "1                           0                0                   0   \n",
       "1                           0                0                   0   \n",
       "1                           0                0                   0   \n",
       "2                           0                0                   0   \n",
       "\n",
       "          HS_Small House  HS_nA  Housing_F  \n",
       "Instance                                    \n",
       "1                      0      0   0.185174  \n",
       "1                      1      0   0.185174  \n",
       "1                      0      0   0.103522  \n",
       "1                      1      0   0.103522  \n",
       "2                      0      0   0.185174  \n",
       "\n",
       "[5 rows x 28 columns]"
      ]
     },
     "execution_count": 14,
     "metadata": {},
     "output_type": "execute_result"
    }
   ],
   "source": [
    "# Housing - one hot encoding and repale the original column with frequency\n",
    "\n",
    "# TODO: deal with na and 0 values\n",
    "\n",
    "dummies = pd.get_dummies(total_df['Housing'], prefix = 'HS')\n",
    "\n",
    "total_df = total_df.join(dummies)\n",
    "fq_encode = total_df['Housing'].value_counts(normalize=True).to_dict()\n",
    "total_df['Housing_F'] = total_df['Housing'].map(fq_encode)\n",
    "total_df.drop('Housing', axis = 1, inplace = True)\n",
    "\n",
    "total_df.head()\n",
    "########################################### Done with Housing"
   ]
  },
  {
   "cell_type": "code",
   "execution_count": 15,
   "metadata": {},
   "outputs": [
    {
     "data": {
      "text/plain": [
       "0      63412\n",
       "4      13085\n",
       "5      31728\n",
       "6      17999\n",
       "7        149\n",
       "       ...  \n",
       "197       28\n",
       "198       30\n",
       "199       17\n",
       "200        4\n",
       "204        2\n",
       "Name: Crime, Length: 199, dtype: int64"
      ]
     },
     "execution_count": 15,
     "metadata": {},
     "output_type": "execute_result"
    }
   ],
   "source": [
    "########################################### Start with Crime\n",
    "# count\n",
    "total_df['Crime'].value_counts().sort_index()"
   ]
  },
  {
   "cell_type": "code",
   "execution_count": 16,
   "metadata": {},
   "outputs": [
    {
     "data": {
      "text/plain": [
       "<matplotlib.axes._subplots.AxesSubplot at 0x13f138c90>"
      ]
     },
     "execution_count": 16,
     "metadata": {},
     "output_type": "execute_result"
    },
    {
     "data": {
      "image/png": "[encoded data removed]",
      "text/plain": [
       "<Figure size 432x288 with 1 Axes>"
      ]
     },
     "metadata": {
      "needs_background": "light"
     },
     "output_type": "display_data"
    }
   ],
   "source": [
    "total_df[(total_df['Income'] != 0)].sample(frac = 0.01, random_state = None).plot.scatter(x='Crime', y = 'Income')"
   ]
  },
  {
   "cell_type": "code",
   "execution_count": 17,
   "metadata": {},
   "outputs": [
    {
     "data": {
      "text/plain": [
       "<matplotlib.axes._subplots.AxesSubplot at 0x13f17dbd0>"
      ]
     },
     "execution_count": 17,
     "metadata": {},
     "output_type": "execute_result"
    },
    {
     "data": {
      "image/png": "[encoded data removed]",
      "text/plain": [
       "<Figure size 432x288 with 1 Axes>"
      ]
     },
     "metadata": {
      "needs_background": "light"
     },
     "output_type": "display_data"
    }
   ],
   "source": [
    "total_df[(total_df['Income'] < 10000) & (total_df['Income'] != 0) & (total_df['Crime'] >= 25) & (total_df['Crime'] <= 150)].sample(frac = 0.01, random_state = None).plot.scatter(x='Crime', y = 'Income')"
   ]
  },
  {
   "cell_type": "code",
   "execution_count": 18,
   "metadata": {},
   "outputs": [
    {
     "data": {
      "text/plain": [
       "Index(['Year', 'WorkExp', 'Satisfation', 'Gender', 'Age', 'Country', 'SoC',\n",
       "       'Profession', 'UD', 'Glasses', 'Hair Color', 'Height', 'AddIn',\n",
       "       'Income', 'Year B1990', 'Year A1990', 'Year Resized', 'HS_0',\n",
       "       'HS_Castle', 'HS_Large Apartment', 'HS_Large House',\n",
       "       'HS_Medium Apartment', 'HS_Medium House', 'HS_Small Apartment',\n",
       "       'HS_Small House', 'HS_nA', 'Housing_F', 'Crime_F'],\n",
       "      dtype='object')"
      ]
     },
     "execution_count": 18,
     "metadata": {},
     "output_type": "execute_result"
    }
   ],
   "source": [
    "# frewuency encode\n",
    "fq_encode = total_df['Crime'].value_counts(normalize=True).to_dict()\n",
    "total_df['Crime_F'] = total_df['Crime'].map(fq_encode)\n",
    "total_df.drop('Crime', axis = 1, inplace = True)\n",
    "\n",
    "total_df.columns\n",
    "########################################### Done with Crime"
   ]
  },
  {
   "cell_type": "code",
   "execution_count": 19,
   "metadata": {},
   "outputs": [],
   "source": [
    "########################################### Start with WorkExp\n",
    "# count\n",
    "total_df['WorkExp'].value_counts().sort_index()\n",
    "\n",
    "# 'fillna'\n",
    "total_df['WorkExp'] = total_df['WorkExp'].map(lambda we: 0 if we == '#NUM!' else we)\n",
    "\n",
    "# dtype to float\n",
    "total_df['WorkExp'] = total_df['WorkExp'].astype('float64')"
   ]
  },
  {
   "cell_type": "code",
   "execution_count": 20,
   "metadata": {},
   "outputs": [
    {
     "data": {
      "text/plain": [
       "<matplotlib.axes._subplots.AxesSubplot at 0x13f1fcf10>"
      ]
     },
     "execution_count": 20,
     "metadata": {},
     "output_type": "execute_result"
    },
    {
     "data": {
      "image/png": "[encoded data removed]",
      "text/plain": [
       "<Figure size 432x288 with 1 Axes>"
      ]
     },
     "metadata": {
      "needs_background": "light"
     },
     "output_type": "display_data"
    }
   ],
   "source": [
    "total_df[(total_df['Income'] != 0)].sample(frac = 0.01, random_state = None).plot.scatter(x='WorkExp', y = 'Income')"
   ]
  },
  {
   "cell_type": "code",
   "execution_count": 21,
   "metadata": {},
   "outputs": [
    {
     "data": {
      "text/plain": [
       "0.0         30\n",
       "0.7          2\n",
       "1.4          7\n",
       "2.0         11\n",
       "2.1         29\n",
       "2.8         89\n",
       "3.0         55\n",
       "3.5        366\n",
       "4.0        214\n",
       "4.2       1588\n",
       "4.9       5531\n",
       "5.0        836\n",
       "5.6      13783\n",
       "6.0       3783\n",
       "6.3      24621\n",
       "7.0      13049\n",
       "8.0      35226\n",
       "9.0      68378\n",
       "10.0    125931\n",
       "11.0    137575\n",
       "12.0    138642\n",
       "13.0    136541\n",
       "14.0    133979\n",
       "15.0    130432\n",
       "16.0    124912\n",
       "17.0    118029\n",
       "18.0    109525\n",
       "19.0    100753\n",
       "20.0     90710\n",
       "21.0     79680\n",
       "22.0     68905\n",
       "23.0     58126\n",
       "24.0     48553\n",
       "25.0     39134\n",
       "26.0     31540\n",
       "27.0     24119\n",
       "28.0     18536\n",
       "29.0     13867\n",
       "30.0     10077\n",
       "31.0      7182\n",
       "32.0      5127\n",
       "33.0      3466\n",
       "34.0      2307\n",
       "35.0      1434\n",
       "36.0      1017\n",
       "37.0       589\n",
       "38.0       349\n",
       "39.0       181\n",
       "40.0       136\n",
       "41.0        51\n",
       "42.0        14\n",
       "43.0         4\n",
       "44.0         4\n",
       "45.0         8\n",
       "47.0         2\n",
       "Name: WorkExp, dtype: int64"
      ]
     },
     "execution_count": 21,
     "metadata": {},
     "output_type": "execute_result"
    }
   ],
   "source": [
    "# count\n",
    "total_df['WorkExp'].value_counts().sort_index()"
   ]
  },
  {
   "cell_type": "code",
   "execution_count": 22,
   "metadata": {},
   "outputs": [
    {
     "data": {
      "text/plain": [
       "<matplotlib.axes._subplots.AxesSubplot at 0x13f1de590>"
      ]
     },
     "execution_count": 22,
     "metadata": {},
     "output_type": "execute_result"
    },
    {
     "data": {
      "image/png": "[encoded data removed]",
      "text/plain": [
       "<Figure size 432x288 with 1 Axes>"
      ]
     },
     "metadata": {
      "needs_background": "light"
     },
     "output_type": "display_data"
    }
   ],
   "source": [
    "# before powertransform make it strictly possitive\n",
    "total_df['WorkExp'] = total_df['WorkExp'].map(lambda we: we + 0.00001)\n",
    "\n",
    "# perform powertransform\n",
    "PT = PowerTransformer(method='box-cox', standardize=True)\n",
    "total_df['WorkExp_T'] = PT.fit_transform(total_df[['WorkExp']])\n",
    "\n",
    "# perform a inverse\n",
    "total_df['WorkExp_T'] = total_df['WorkExp_T'].map(lambda wet: np.abs(wet))\n",
    "\n",
    "total_df[(total_df['Income'] != 0)].sample(frac = 0.01, random_state = None).plot.scatter(x='WorkExp_T', y = 'Income')"
   ]
  },
  {
   "cell_type": "code",
   "execution_count": 23,
   "metadata": {},
   "outputs": [
    {
     "data": {
      "text/plain": [
       "Index(['Year', 'WorkExp', 'Satisfation', 'Gender', 'Age', 'Country', 'SoC',\n",
       "       'Profession', 'UD', 'Glasses', 'Hair Color', 'Height', 'AddIn',\n",
       "       'Income', 'Year B1990', 'Year A1990', 'Year Resized', 'HS_0',\n",
       "       'HS_Castle', 'HS_Large Apartment', 'HS_Large House',\n",
       "       'HS_Medium Apartment', 'HS_Medium House', 'HS_Small Apartment',\n",
       "       'HS_Small House', 'HS_nA', 'Housing_F', 'Crime_F', 'WorkExp_T'],\n",
       "      dtype='object')"
      ]
     },
     "execution_count": 23,
     "metadata": {},
     "output_type": "execute_result"
    }
   ],
   "source": [
    "total_df.columns\n",
    "########################################### Done with WorkExp"
   ]
  },
  {
   "cell_type": "code",
   "execution_count": 24,
   "metadata": {},
   "outputs": [
    {
     "data": {
      "text/plain": [
       "Average           893879\n",
       "Happy             647955\n",
       "Somewhat Happy    285976\n",
       "Unhappy            31406\n",
       "Name: Satisfation, dtype: int64"
      ]
     },
     "execution_count": 24,
     "metadata": {},
     "output_type": "execute_result"
    }
   ],
   "source": [
    "########################################### Start with Satisfation\n",
    "# count\n",
    "total_df['Satisfation'].value_counts().sort_index()"
   ]
  },
  {
   "cell_type": "code",
   "execution_count": 25,
   "metadata": {},
   "outputs": [
    {
     "data": {
      "text/plain": [
       "Index(['Year', 'WorkExp', 'Gender', 'Age', 'Country', 'SoC', 'Profession',\n",
       "       'UD', 'Glasses', 'Hair Color', 'Height', 'AddIn', 'Income',\n",
       "       'Year B1990', 'Year A1990', 'Year Resized', 'HS_0', 'HS_Castle',\n",
       "       'HS_Large Apartment', 'HS_Large House', 'HS_Medium Apartment',\n",
       "       'HS_Medium House', 'HS_Small Apartment', 'HS_Small House', 'HS_nA',\n",
       "       'Housing_F', 'Crime_F', 'WorkExp_T', 'Satis_Average', 'Satis_Happy',\n",
       "       'Satis_Somewhat Happy', 'Satis_Unhappy', 'Satisfation_F'],\n",
       "      dtype='object')"
      ]
     },
     "execution_count": 25,
     "metadata": {},
     "output_type": "execute_result"
    }
   ],
   "source": [
    "dummies = pd.get_dummies(total_df['Satisfation'], prefix = 'Satis')\n",
    "total_df = total_df.join(dummies)\n",
    "\n",
    "fq_encode = total_df['Satisfation'].value_counts(normalize=True).to_dict()\n",
    "total_df['Satisfation_F'] = total_df['Satisfation'].map(fq_encode)\n",
    "\n",
    "total_df.drop('Satisfation', axis = 1, inplace = True)\n",
    "\n",
    "total_df.columns\n",
    "########################################### Done with Satisfation"
   ]
  },
  {
   "cell_type": "code",
   "execution_count": 26,
   "metadata": {},
   "outputs": [
    {
     "data": {
      "text/plain": [
       "0            17115\n",
       "f            53245\n",
       "female     1380900\n",
       "male       2278413\n",
       "other      1432855\n",
       "unknown     362825\n",
       "Name: Gender, dtype: int64"
      ]
     },
     "execution_count": 26,
     "metadata": {},
     "output_type": "execute_result"
    }
   ],
   "source": [
    "########################################### Start with Gender\n",
    "# count\n",
    "total_df['Gender'].value_counts().sort_index()"
   ]
  },
  {
   "cell_type": "code",
   "execution_count": 27,
   "metadata": {},
   "outputs": [
    {
     "data": {
      "text/plain": [
       "Index(['Year', 'WorkExp', 'Age', 'Country', 'SoC', 'Profession', 'UD',\n",
       "       'Glasses', 'Hair Color', 'Height', 'AddIn', 'Income', 'Year B1990',\n",
       "       'Year A1990', 'Year Resized', 'HS_0', 'HS_Castle', 'HS_Large Apartment',\n",
       "       'HS_Large House', 'HS_Medium Apartment', 'HS_Medium House',\n",
       "       'HS_Small Apartment', 'HS_Small House', 'HS_nA', 'Housing_F', 'Crime_F',\n",
       "       'WorkExp_T', 'Satis_Average', 'Satis_Happy', 'Satis_Somewhat Happy',\n",
       "       'Satis_Unhappy', 'Satisfation_F', 'Gender_F', 'G_0', 'G_f', 'G_female',\n",
       "       'G_male', 'G_other', 'G_unknown'],\n",
       "      dtype='object')"
      ]
     },
     "execution_count": 27,
     "metadata": {},
     "output_type": "execute_result"
    }
   ],
   "source": [
    "# frequency encoding\n",
    "fq_encode = total_df['Gender'].value_counts(normalize=True).to_dict()\n",
    "total_df['Gender_F'] = total_df['Gender'].map(fq_encode)\n",
    "\n",
    "# # f => female\n",
    "# total_df['Gender'] = total_df['Gender'].map(lambda g: 'female' if g == 'f' else g)\n",
    "\n",
    "# # 0 => unknown\n",
    "# total_df['Gender'] = total_df['Gender'].map(lambda g: 'unknown' if g == '0' else g)\n",
    "\n",
    "# TODO: unknown values \n",
    "\n",
    "# one hot encoding\n",
    "dummies = pd.get_dummies(total_df['Gender'], prefix = 'G')\n",
    "total_df = total_df.join(dummies)\n",
    "\n",
    "total_df.drop('Gender', axis = 1, inplace = True)\n",
    "\n",
    "total_df.columns\n",
    "########################################### Done with Gender"
   ]
  },
  {
   "cell_type": "code",
   "execution_count": 28,
   "metadata": {},
   "outputs": [
    {
     "data": {
      "text/plain": [
       "14     1039199\n",
       "15     2093465\n",
       "16     2049609\n",
       "17     2073974\n",
       "18     2079979\n",
       "        ...   \n",
       "117        128\n",
       "118        128\n",
       "119        128\n",
       "121        128\n",
       "126        128\n",
       "Name: Age, Length: 107, dtype: int64"
      ]
     },
     "execution_count": 28,
     "metadata": {},
     "output_type": "execute_result"
    }
   ],
   "source": [
    "########################################### Start with Age\n",
    "# count\n",
    "total_df['Age'].value_counts().sort_index()"
   ]
  },
  {
   "cell_type": "code",
   "execution_count": 29,
   "metadata": {},
   "outputs": [
    {
     "data": {
      "text/plain": [
       "<matplotlib.axes._subplots.AxesSubplot at 0x13f264fd0>"
      ]
     },
     "execution_count": 29,
     "metadata": {},
     "output_type": "execute_result"
    },
    {
     "data": {
      "image/png": "[encoded data removed]",
      "text/plain": [
       "<Figure size 432x288 with 1 Axes>"
      ]
     },
     "metadata": {
      "needs_background": "light"
     },
     "output_type": "display_data"
    }
   ],
   "source": [
    "total_df[(total_df['Income'] != 0) & (total_df['Age'] >= 80) & (total_df['Age'] < 110)].sample(frac = 0.01, random_state = None).plot.scatter(x='Age', y = 'Income')"
   ]
  },
  {
   "cell_type": "code",
   "execution_count": 30,
   "metadata": {},
   "outputs": [
    {
     "data": {
      "text/plain": [
       "<matplotlib.axes._subplots.AxesSubplot at 0x13f30a0d0>"
      ]
     },
     "execution_count": 30,
     "metadata": {},
     "output_type": "execute_result"
    },
    {
     "data": {
      "image/png": "[encoded data removed]",
      "text/plain": [
       "<Figure size 432x288 with 1 Axes>"
      ]
     },
     "metadata": {
      "needs_background": "light"
     },
     "output_type": "display_data"
    }
   ],
   "source": [
    "# divide\n",
    "total_df[(total_df['Income'] != 0)].sample(frac = 0.01, random_state = None).plot.scatter(x='Age', y = 'Income')"
   ]
  },
  {
   "cell_type": "code",
   "execution_count": 31,
   "metadata": {},
   "outputs": [
    {
     "data": {
      "text/plain": [
       "Index(['Year', 'WorkExp', 'Age', 'Country', 'SoC', 'Profession', 'UD',\n",
       "       'Glasses', 'Hair Color', 'Height', 'AddIn', 'Income', 'Year B1990',\n",
       "       'Year A1990', 'Year Resized', 'HS_0', 'HS_Castle', 'HS_Large Apartment',\n",
       "       'HS_Large House', 'HS_Medium Apartment', 'HS_Medium House',\n",
       "       'HS_Small Apartment', 'HS_Small House', 'HS_nA', 'Housing_F', 'Crime_F',\n",
       "       'WorkExp_T', 'Satis_Average', 'Satis_Happy', 'Satis_Somewhat Happy',\n",
       "       'Satis_Unhappy', 'Satisfation_F', 'Gender_F', 'G_0', 'G_f', 'G_female',\n",
       "       'G_male', 'G_other', 'G_unknown'],\n",
       "      dtype='object')"
      ]
     },
     "execution_count": 31,
     "metadata": {},
     "output_type": "execute_result"
    }
   ],
   "source": [
    "total_df.columns\n",
    "########################################### Done with Age"
   ]
  },
  {
   "cell_type": "code",
   "execution_count": 32,
   "metadata": {},
   "outputs": [
    {
     "data": {
      "text/plain": [
       "Afghanistan             14522\n",
       "Albania                319835\n",
       "Algeria                  7340\n",
       "Angola                  40979\n",
       "Antigua and Barbuda       128\n",
       "                        ...  \n",
       "Venezuela               34971\n",
       "Vietnam                   128\n",
       "Yemen                   28575\n",
       "Zambia                 167418\n",
       "Zimbabwe               338860\n",
       "Name: Country, Length: 181, dtype: int64"
      ]
     },
     "execution_count": 32,
     "metadata": {},
     "output_type": "execute_result"
    }
   ],
   "source": [
    "########################################### Start with Gender\n",
    "# count\n",
    "total_df['Country'].value_counts().sort_index()"
   ]
  },
  {
   "cell_type": "code",
   "execution_count": null,
   "metadata": {},
   "outputs": [],
   "source": [
    "# freq encoding\n",
    "fq_encode = total_df['Country'].value_counts(normalize=True).to_dict()\n",
    "total_df['Country_F'] = total_df['Country'].map(fq_encode)\n",
    "\n",
    "# one hot encoding\n",
    "dummies = pd.get_dummies(total_df['Country'], prefix = 'CTR')\n",
    "total_df = total_df.join(dummies)\n",
    "\n",
    "# drop the original column\n",
    "total_df.drop('Country', axis = 1, inplace = True)\n",
    "\n",
    "total_df.columns\n",
    "\n",
    "########################################### End with Country"
   ]
  },
  {
   "cell_type": "code",
   "execution_count": null,
   "metadata": {},
   "outputs": [],
   "source": [
    "########################################### Start with SoC\n",
    "# value counts\n",
    "total_df['SoC'].value_counts().sort_index()"
   ]
  },
  {
   "cell_type": "code",
   "execution_count": null,
   "metadata": {},
   "outputs": [],
   "source": []
  },
  {
   "cell_type": "code",
   "execution_count": null,
   "metadata": {},
   "outputs": [],
   "source": []
  },
  {
   "cell_type": "code",
   "execution_count": null,
   "metadata": {},
   "outputs": [],
   "source": []
  },
  {
   "cell_type": "code",
   "execution_count": null,
   "metadata": {},
   "outputs": [],
   "source": []
  }
 ],
 "metadata": {
  "kernelspec": {
   "display_name": "Python 3",
   "language": "python",
   "name": "python3"
  },
  "language_info": {
   "codemirror_mode": {
    "name": "ipython",
    "version": 3
   },
   "file_extension": ".py",
   "mimetype": "text/x-python",
   "name": "python",
   "nbconvert_exporter": "python",
   "pygments_lexer": "ipython3",
   "version": "3.7.5"
  }
 },
 "nbformat": 4,
 "nbformat_minor": 4
}
